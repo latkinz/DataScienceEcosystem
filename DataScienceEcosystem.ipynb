{
 "cells": [
  {
   "cell_type": "markdown",
   "id": "8a353ec1",
   "metadata": {},
   "source": [
    "# Data Science Tools and Ecosystem"
   ]
  },
  {
   "cell_type": "markdown",
   "id": "5ce6455d",
   "metadata": {},
   "source": [
    "This notebook provides a summary of data science tools and development environments"
   ]
  },
  {
   "cell_type": "markdown",
   "id": "5235179d",
   "metadata": {},
   "source": [
    "**Objectives:**\n",
    "- List Data Science languages\n",
    "- Name Data Science tools\n",
    "- Identify Data Science libraries\n",
    "- Coding arithmetic expressions\n",
    "    "
   ]
  },
  {
   "cell_type": "markdown",
   "id": "a31fd957",
   "metadata": {},
   "source": [
    "Some of the commonly used languages for Data Science include:\n",
    "1. Python\n",
    "1. R\n",
    "1. Julia\n",
    "1. SQL\n",
    "\n"
   ]
  },
  {
   "cell_type": "markdown",
   "id": "93f561c4",
   "metadata": {},
   "source": [
    "Some libraries commonly used for Data Science include:\n",
    "1. Pandas\n",
    "1. NumPy\n",
    "1. MatPlotLib"
   ]
  },
  {
   "cell_type": "markdown",
   "id": "95d7fe26",
   "metadata": {},
   "source": [
    "| Data Science Tools |\n",
    "|--------------------|\n",
    "| MySQL|\n",
    "| Hadoop|\n",
    "| Jupyter|"
   ]
  },
  {
   "cell_type": "code",
   "execution_count": null,
   "id": "adc9be15",
   "metadata": {},
   "outputs": [],
   "source": [
    "### Below are a few examples of executing arithmetic expressions in Python"
   ]
  },
  {
   "cell_type": "code",
   "execution_count": 9,
   "id": "b457f754",
   "metadata": {},
   "outputs": [
    {
     "data": {
      "text/plain": [
       "17"
      ]
     },
     "execution_count": 9,
     "metadata": {},
     "output_type": "execute_result"
    }
   ],
   "source": [
    "# This is a simple arithmetic expression to multiply then add numbers\n",
    "(3*4)+5"
   ]
  },
  {
   "cell_type": "code",
   "execution_count": 10,
   "id": "9c63cfe5",
   "metadata": {},
   "outputs": [
    {
     "data": {
      "text/plain": [
       "3.3333333333333335"
      ]
     },
     "execution_count": 10,
     "metadata": {},
     "output_type": "execute_result"
    }
   ],
   "source": [
    "# This will convert 200 minutes to hours by dividing by 60\n",
    "200/60"
   ]
  },
  {
   "cell_type": "markdown",
   "id": "e3bcf26f",
   "metadata": {},
   "source": [
    "## Author\n",
    "Laura Atkins"
   ]
  },
  {
   "cell_type": "code",
   "execution_count": null,
   "id": "98365fac",
   "metadata": {},
   "outputs": [],
   "source": []
  }
 ],
 "metadata": {
  "kernelspec": {
   "display_name": "Python 3 (ipykernel)",
   "language": "python",
   "name": "python3"
  },
  "language_info": {
   "codemirror_mode": {
    "name": "ipython",
    "version": 3
   },
   "file_extension": ".py",
   "mimetype": "text/x-python",
   "name": "python",
   "nbconvert_exporter": "python",
   "pygments_lexer": "ipython3",
   "version": "3.11.3"
  }
 },
 "nbformat": 4,
 "nbformat_minor": 5
}
